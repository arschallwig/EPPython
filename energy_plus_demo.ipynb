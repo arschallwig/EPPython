{
 "cells": [
  {
   "cell_type": "markdown",
   "metadata": {},
   "source": [
    "## EnergyPlus Python API Demo"
   ]
  },
  {
   "cell_type": "code",
   "execution_count": 1,
   "metadata": {},
   "outputs": [],
   "source": [
    "import sys\n",
    "import os\n",
    "ep_install_path = \"/usr/local/EnergyPlus-23-2-0/\"\n",
    "sys.path.append(ep_install_path)\n",
    "cwd = os.getcwd()\n",
    "\n",
    "output_dir = '/home/arschall/Programming/ASSET/EnergyPlusPython/camilo_build'\n",
    "epw_dir = cwd + '/camilo_build/1986_historical_detroit_hc.epw'\n",
    "idf_dir = cwd + '/camilo_build/in.idf'\n",
    "\n",
    "from pyenergyplus.api import EnergyPlusAPI"
   ]
  },
  {
   "cell_type": "code",
   "execution_count": 2,
   "metadata": {},
   "outputs": [
    {
     "name": "stdout",
     "output_type": "stream",
     "text": [
      "EnergyPlus Version: 23.2.0-7636e6b3e9\n"
     ]
    }
   ],
   "source": [
    "api = EnergyPlusAPI()\n",
    "print(\"EnergyPlus Version: \" + str(api.functional.ep_version()))"
   ]
  },
  {
   "cell_type": "markdown",
   "metadata": {},
   "source": [
    "### Functional API Demo\n",
    "The functional API allows for interfacing with static information through the EnergyPlus binary. To interact with a property, an object of that property must be instantiated. Once an object exists, it can be altered through class methods."
   ]
  },
  {
   "cell_type": "code",
   "execution_count": 3,
   "metadata": {},
   "outputs": [],
   "source": [
    "api = EnergyPlusAPI()\n",
    "\n",
    "state = api.state_manager.new_state() # TODO: purpose of state_manager and state?\n",
    "\n",
    "glycol = api.functional.glycol(state, u\"water\")\n",
    "cp = glycol.specific_heat(state, 35.0)\n",
    "rho = glycol.density(state, 15.0)\n",
    "glycol.delete(state)\n",
    "\n",
    "refrigerant = api.functional.refrigerant(state, \"steam\")\n",
    "satPress = refrigerant.saturation_pressure(state, 100.0)\n",
    "refrigerant.delete(state)"
   ]
  },
  {
   "cell_type": "markdown",
   "metadata": {},
   "source": [
    "### Runtime API Demo\n",
    "The runtime API allows users to initiate and interact with running simulations. The user can create callback functions that are handled throughout simulation runtime "
   ]
  },
  {
   "cell_type": "code",
   "execution_count": 3,
   "metadata": {},
   "outputs": [
    {
     "name": "stdout",
     "output_type": "stream",
     "text": [
      "EnergyPlus Starting\n",
      "EnergyPlus, Version 23.2.0-7636e6b3e9, YMD=2024.02.07 23:22\n",
      "**FATAL:Errors occurred on processing input file. Preceding condition(s) cause termination.\n",
      "EnergyPlus Run Time=00hr 00min  0.11sec\n",
      "EnergyPlus Simulation Failed\n"
     ]
    },
    {
     "name": "stderr",
     "output_type": "stream",
     "text": [
      "Program terminated: EnergyPlus Terminated--Error(s) Detected.\n"
     ]
    },
    {
     "ename": "SystemExit",
     "evalue": "1",
     "output_type": "error",
     "traceback": [
      "An exception has occurred, use %tb to see the full traceback.\n",
      "\u001b[0;31mSystemExit\u001b[0m\u001b[0;31m:\u001b[0m 1\n"
     ]
    },
    {
     "name": "stderr",
     "output_type": "stream",
     "text": [
      "/home/arschall/Programming/ASSET/EnergyPlusPython/venv/lib/python3.8/site-packages/IPython/core/interactiveshell.py:3516: UserWarning: To exit: use 'exit', 'quit', or Ctrl-D.\n",
      "  warn(\"To exit: use 'exit', 'quit', or Ctrl-D.\", stacklevel=1)\n"
     ]
    }
   ],
   "source": [
    "api = EnergyPlusAPI()\n",
    "state = api.state_manager.new_state()\n",
    "progressValue = 0\n",
    "\n",
    "def progress_handler(progress: int) -> None:\n",
    "    global progressValue\n",
    "    progressValue = progress\n",
    "    if 49 < progress < 51:\n",
    "        print(\"------Halfway through simulation------\")\n",
    "        sys.stdout.flush()\n",
    "\n",
    "api.runtime.callback_progress(state, progress_handler)\n",
    "\n",
    "v = api.runtime.run_energyplus(state, ['-d', output_dir, '-w', epw_dir, idf_dir])\n",
    "if v != 0:\n",
    "    print(\"EnergyPlus Simulation Failed\")\n",
    "    sys.exit(1)\n",
    "assert(progressValue == 100)"
   ]
  },
  {
   "cell_type": "markdown",
   "metadata": {},
   "source": [
    "### Data Exchange API Demo\n",
    "The runtime API allows users to interact with simulation data, categorized into:\n",
    "- __Variables:__ Time series output variables from simulation. Must be requested to be tracked by adding `Output:Variable` in the input file. Variables accessed with a `get` method.\n",
    "- __Meters:__  Collection of variables from simulation. Do not need to be explicitly requested. Meters accessed with a `get` method.\n",
    "- __Internal Variables:__ \"Static\" variables that do not change over a simulation period. Internal Variables accessed with `get` method.\n",
    "- __Simulation Parameters:__ Simulation parameters that vary throughout the simulation period. Examples include current simulation day of week or year, or current simulation hour. Available through direct function calls.\n",
    "- __Actuators:__ Entry point for users to view and modify runtime variables during simulation. Though there are restrictions to limit actuation to respect environmental boundaries, users can access, perform calculations upon, and update Data Exchange variables."
   ]
  }
 ],
 "metadata": {
  "kernelspec": {
   "display_name": "venv",
   "language": "python",
   "name": "python3"
  },
  "language_info": {
   "codemirror_mode": {
    "name": "ipython",
    "version": 3
   },
   "file_extension": ".py",
   "mimetype": "text/x-python",
   "name": "python",
   "nbconvert_exporter": "python",
   "pygments_lexer": "ipython3",
   "version": "3.8.10"
  }
 },
 "nbformat": 4,
 "nbformat_minor": 2
}
