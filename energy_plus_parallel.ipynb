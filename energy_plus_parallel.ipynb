{
 "cells": [
  {
   "cell_type": "code",
   "execution_count": 1,
   "metadata": {},
   "outputs": [],
   "source": [
    "import sys\n",
    "ep_install_path = \"/usr/local/EnergyPlus-23-2-0/\"\n",
    "sys.path.append(ep_install_path)\n",
    "\n",
    "output_dir = '/home/arschall/Programming/ASSET/EnergyPlusPython/output'\n",
    "epw_dir = ep_install_path + 'WeatherData/USA_IL_Chicago-OHare.Intl.AP.725300_TMY3.epw'\n",
    "idf_dir = ep_install_path + 'ExampleFiles/5ZoneAirCooledDemandLimiting.idf'\n",
    "\n",
    "from pyenergyplus.api import EnergyPlusAPI"
   ]
  },
  {
   "cell_type": "code",
   "execution_count": 2,
   "metadata": {},
   "outputs": [
    {
     "name": "stdout",
     "output_type": "stream",
     "text": [
      "EnergyPlus Version: 23.2.0-7636e6b3e9\n"
     ]
    }
   ],
   "source": [
    "api = EnergyPlusAPI()\n",
    "print(\"EnergyPlus Version: \" + str(api.functional.ep_version()))"
   ]
  },
  {
   "cell_type": "code",
   "execution_count": 3,
   "metadata": {},
   "outputs": [],
   "source": [
    "api = EnergyPlusAPI()\n",
    "\n",
    "state_1 = api.state_manager.new_state()\n",
    "state_2 = api.state_manager.new_state()"
   ]
  },
  {
   "cell_type": "code",
   "execution_count": 4,
   "metadata": {},
   "outputs": [
    {
     "name": "stdout",
     "output_type": "stream",
     "text": [
      "EnergyPlus Starting\n",
      "EnergyPlus, Version 23.2.0-7636e6b3e9, YMD=2023.10.25 13:02\n",
      "Initializing Response Factors\n",
      "Calculating CTFs for \"ROOF-1\"\n",
      "Calculating CTFs for \"WALL-1\"\n",
      "Calculating CTFs for \"FLOOR-SLAB-1\"\n",
      "Calculating CTFs for \"INT-WALL-1\"\n",
      "Initializing Window Optical Properties\n",
      "Initializing Solar Calculations\n",
      "Allocate Solar Module Arrays\n",
      "Initializing Zone and Enclosure Report Variables\n",
      "Initializing Surface (Shading) Report Variables\n",
      "Computing Interior Solar Absorption Factors\n",
      "Determining Shadowing Combinations\n",
      "Computing Window Shade Absorption Factors\n",
      "Proceeding with Initializing Solar Calculations\n",
      "Initializing Surfaces\n",
      "Initializing Outdoor environment for Surfaces\n",
      "Setting up Surface Reporting Variables\n",
      "Initializing Temperature and Flux Histories\n",
      "Initializing Window Shading\n",
      "Computing Interior Absorption Factors\n",
      "Computing Interior Diffuse Solar Absorption Factors\n",
      "Initializing Solar Heat Gains\n",
      "Initializing Internal Heat Gains\n",
      "Initializing Interior Solar Distribution\n",
      "Initializing Interior Convection Coefficients\n",
      "Gathering Information for Predefined Reporting\n",
      "Completed Initializing Surface Heat Balance\n",
      "Calculate Outside Surface Heat Balance\n",
      "Calculate Inside Surface Heat Balance\n",
      "Calculate Air Heat Balance\n",
      "Initializing HVAC\n",
      "Warming up\n",
      "Warming up\n",
      "Warming up\n",
      "Warming up\n",
      "Warming up\n",
      "Warming up\n",
      "Performing Zone Sizing Simulation\n",
      "...for Sizing Period: #1 CHICAGO ANN HTG 99% CONDNS DB\n",
      "Warming up\n",
      "Warming up\n",
      "Warming up\n",
      "Warming up\n",
      "Warming up\n",
      "Warming up\n",
      "Performing Zone Sizing Simulation\n",
      "...for Sizing Period: #2 CHICAGO ANN CLG 1% CONDNS DB=>MWB\n",
      "Calculating System sizing\n",
      "...for Sizing Period: #1 CHICAGO ANN HTG 99% CONDNS DB\n",
      "Calculating System sizing\n",
      "...for Sizing Period: #2 CHICAGO ANN CLG 1% CONDNS DB=>MWB\n",
      "Adjusting Air System Sizing\n",
      "Adjusting Standard 62.1 Ventilation Sizing\n",
      "Initializing Simulation\n",
      "Reporting Surfaces\n",
      "Beginning Primary Simulation\n",
      "Initializing New Environment Parameters\n",
      "Warming up {1}\n",
      "Warming up {2}\n",
      "Warming up {3}\n",
      "Warming up {4}\n",
      "Warming up {5}\n",
      "Warming up {6}\n",
      "Starting Simulation at 01/21 for CHICAGO ANN HTG 99% CONDNS DB\n",
      "Initializing New Environment Parameters\n",
      "Warming up {1}\n",
      "Warming up {2}\n",
      "Warming up {3}\n",
      "Warming up {4}\n",
      "Warming up {5}\n",
      "Warming up {6}\n",
      "Starting Simulation at 07/21 for CHICAGO ANN CLG 1% CONDNS DB=>MWB\n",
      "Writing tabular output file results using HTML format.\n",
      "Writing Tariff Reports\n",
      "EnergyPlus Run Time=00hr 00min  0.39sec\n",
      "EnergyPlus Starting\n",
      "EnergyPlus, Version 23.2.0-7636e6b3e9, YMD=2023.10.25 13:02\n"
     ]
    },
    {
     "name": "stderr",
     "output_type": "stream",
     "text": [
      "EnergyPlus Completed Successfully.\n"
     ]
    },
    {
     "name": "stdout",
     "output_type": "stream",
     "text": [
      "Initializing Response Factors\n",
      "Calculating CTFs for \"ROOF-1\"\n",
      "Calculating CTFs for \"WALL-1\"\n",
      "Calculating CTFs for \"FLOOR-SLAB-1\"\n",
      "Calculating CTFs for \"INT-WALL-1\"\n",
      "Initializing Window Optical Properties\n",
      "Initializing Solar Calculations\n",
      "Allocate Solar Module Arrays\n",
      "Initializing Zone and Enclosure Report Variables\n",
      "Initializing Surface (Shading) Report Variables\n",
      "Computing Interior Solar Absorption Factors\n",
      "Determining Shadowing Combinations\n",
      "Computing Window Shade Absorption Factors\n",
      "Proceeding with Initializing Solar Calculations\n",
      "Initializing Surfaces\n",
      "Initializing Outdoor environment for Surfaces\n",
      "Setting up Surface Reporting Variables\n",
      "Initializing Temperature and Flux Histories\n",
      "Initializing Window Shading\n",
      "Computing Interior Absorption Factors\n",
      "Computing Interior Diffuse Solar Absorption Factors\n",
      "Initializing Solar Heat Gains\n",
      "Initializing Internal Heat Gains\n",
      "Initializing Interior Solar Distribution\n",
      "Initializing Interior Convection Coefficients\n",
      "Gathering Information for Predefined Reporting\n",
      "Completed Initializing Surface Heat Balance\n",
      "Calculate Outside Surface Heat Balance\n",
      "Calculate Inside Surface Heat Balance\n",
      "Calculate Air Heat Balance\n",
      "Initializing HVAC\n",
      "Warming up\n",
      "Warming up\n",
      "Warming up\n",
      "Warming up\n",
      "Warming up\n",
      "Warming up\n",
      "Performing Zone Sizing Simulation\n",
      "...for Sizing Period: #1 CHICAGO ANN HTG 99% CONDNS DB\n",
      "Warming up\n",
      "Warming up\n",
      "Warming up\n",
      "Warming up\n",
      "Warming up\n",
      "Warming up\n",
      "Performing Zone Sizing Simulation\n",
      "...for Sizing Period: #2 CHICAGO ANN CLG 1% CONDNS DB=>MWB\n",
      "Calculating System sizing\n",
      "...for Sizing Period: #1 CHICAGO ANN HTG 99% CONDNS DB\n",
      "Calculating System sizing\n",
      "...for Sizing Period: #2 CHICAGO ANN CLG 1% CONDNS DB=>MWB\n",
      "Adjusting Air System Sizing\n",
      "Adjusting Standard 62.1 Ventilation Sizing\n",
      "Initializing Simulation\n",
      "Reporting Surfaces\n",
      "Beginning Primary Simulation\n",
      "Initializing New Environment Parameters\n",
      "Warming up {1}\n",
      "Warming up {2}\n",
      "Warming up {3}\n",
      "Warming up {4}\n",
      "Warming up {5}\n",
      "Warming up {6}\n",
      "Starting Simulation at 01/21 for CHICAGO ANN HTG 99% CONDNS DB\n",
      "Initializing New Environment Parameters\n",
      "Warming up {1}\n",
      "Warming up {2}\n",
      "Warming up {3}\n",
      "Warming up {4}\n",
      "Warming up {5}\n",
      "Warming up {6}\n",
      "Starting Simulation at 07/21 for CHICAGO ANN CLG 1% CONDNS DB=>MWB\n",
      "Writing tabular output file results using HTML format.\n",
      "Writing Tariff Reports\n",
      "EnergyPlus Run Time=00hr 00min  0.27sec\n"
     ]
    },
    {
     "name": "stderr",
     "output_type": "stream",
     "text": [
      "EnergyPlus Completed Successfully.\n"
     ]
    },
    {
     "name": "stdout",
     "output_type": "stream",
     "text": [
      "Concurrent processes complete\n"
     ]
    }
   ],
   "source": [
    "import multiprocessing\n",
    "\n",
    "procs = 2\n",
    "\n",
    "jobs = []\n",
    "states = [state_1, state_2]\n",
    "outputs = ['/home/arschall/Programming/ASSET/EnergyPlusPython/output/state_1', '/home/arschall/Programming/ASSET/EnergyPlusPython/output/state_2']\n",
    "epw_dirs = [ep_install_path + 'WeatherData/USA_CA_San.Francisco.Intl.AP.724940_TMY3.epw', ep_install_path + 'WeatherData/USA_CO_Golden-NREL.724666_TMY3.epw']\n",
    "idf_dirs = [ep_install_path + 'ExampleFiles/5ZoneAirCooledDemandLimiting.idf', ep_install_path + 'ExampleFiles/5ZoneAirCooledDemandLimiting.idf']\n",
    "\n",
    "for i in range(procs):\n",
    "    process = multiprocessing.Process(target=api.runtime.run_energyplus(states[i], ['-d', outputs[i], '-w', epw_dirs[i], idf_dirs[i]]))\n",
    "    jobs.append(process)\n",
    "\n",
    "for j in jobs:\n",
    "    j.start()\n",
    "\n",
    "for j in jobs:\n",
    "    j.join()\n",
    "\n",
    "print(\"Concurrent processes complete\")"
   ]
  }
 ],
 "metadata": {
  "kernelspec": {
   "display_name": "venv",
   "language": "python",
   "name": "python3"
  },
  "language_info": {
   "codemirror_mode": {
    "name": "ipython",
    "version": 3
   },
   "file_extension": ".py",
   "mimetype": "text/x-python",
   "name": "python",
   "nbconvert_exporter": "python",
   "pygments_lexer": "ipython3",
   "version": "3.8.10"
  }
 },
 "nbformat": 4,
 "nbformat_minor": 2
}
