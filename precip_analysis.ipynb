{
 "cells": [
  {
   "cell_type": "code",
   "execution_count": 10,
   "metadata": {},
   "outputs": [],
   "source": [
    "import sys\n",
    "import os\n",
    "\n",
    "ep_install_path = \"/usr/local/EnergyPlus-23-2-0/\"\n",
    "sys.path.append(ep_install_path)\n",
    "\n",
    "dirname = os.getcwd()\n",
    "\n",
    "output_dir = dirname + 'precip_output'\n",
    "new_epw = dirname + '/epws/newprecip_2041_rcp85hotter_detroit_hc.epw'\n",
    "old_epw = dirname + '/epws/oldprecip_2041_rcp85hotter_detroit_hc.epw'\n",
    "idf = dirname + '/idfs/in.idf'\n",
    "\n",
    "from pyenergyplus.api import EnergyPlusAPI"
   ]
  },
  {
   "cell_type": "code",
   "execution_count": 11,
   "metadata": {},
   "outputs": [
    {
     "name": "stdout",
     "output_type": "stream",
     "text": [
      "EnergyPlus Version: 23.2.0-7636e6b3e9\n"
     ]
    }
   ],
   "source": [
    "api = EnergyPlusAPI()\n",
    "print(\"EnergyPlus Version: \" + str(api.functional.ep_version()))"
   ]
  },
  {
   "cell_type": "code",
   "execution_count": 12,
   "metadata": {},
   "outputs": [
    {
     "name": "stdout",
     "output_type": "stream",
     "text": [
      "EnergyPlus Starting\n",
      "EnergyPlus, Version 23.2.0-7636e6b3e9, YMD=2023.11.03 13:39\n",
      "**FATAL:Errors occurred on processing input file. Preceding condition(s) cause termination.\n",
      "EnergyPlus Run Time=00hr 00min  0.11sec\n"
     ]
    },
    {
     "name": "stderr",
     "output_type": "stream",
     "text": [
      "Program terminated: EnergyPlus Terminated--Error(s) Detected.\n"
     ]
    }
   ],
   "source": [
    "state = api.state_manager.new_state()\n",
    "\n",
    "progressValue = 0\n",
    "\n",
    "def progress_handler(progress: int) -> None:\n",
    "    global progressValue\n",
    "    progressValue = progress\n",
    "    if 49 < progress < 51:\n",
    "        print(\"------Halfway through simulation------\")\n",
    "        sys.stdout.flush()\n",
    "\n",
    "api.runtime.callback_progress(state, progress_handler)\n",
    "\n",
    "v = api.runtime.run_energyplus(state, ['-d', output_dir, '-w', new_epw, idf])"
   ]
  }
 ],
 "metadata": {
  "kernelspec": {
   "display_name": "venv",
   "language": "python",
   "name": "python3"
  },
  "language_info": {
   "codemirror_mode": {
    "name": "ipython",
    "version": 3
   },
   "file_extension": ".py",
   "mimetype": "text/x-python",
   "name": "python",
   "nbconvert_exporter": "python",
   "pygments_lexer": "ipython3",
   "version": "3.8.10"
  }
 },
 "nbformat": 4,
 "nbformat_minor": 2
}
